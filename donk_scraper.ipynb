{
 "cells": [
  {
   "cell_type": "code",
   "execution_count": 1,
   "metadata": {},
   "outputs": [],
   "source": [
    "import pandas as pd\n",
    "import numpy as np\n",
    "import matplotlib.pyplot as plt\n",
    "import seaborn as sns"
   ]
  },
  {
   "cell_type": "code",
   "execution_count": 2,
   "metadata": {},
   "outputs": [],
   "source": [
    "from selenium import webdriver\n",
    "from selenium.webdriver.common.keys import Keys\n",
    "from selenium.webdriver.common.by import By"
   ]
  },
  {
   "cell_type": "code",
   "execution_count": 3,
   "metadata": {},
   "outputs": [],
   "source": [
    "from time import sleep\n",
    "import time"
   ]
  },
  {
   "cell_type": "code",
   "execution_count": 4,
   "metadata": {},
   "outputs": [],
   "source": [
    "import os\n",
    "import pickle"
   ]
  },
  {
   "cell_type": "code",
   "execution_count": 8,
   "metadata": {},
   "outputs": [],
   "source": [
    "driver2 = webdriver.Chrome('/Users/mcurcio/Downloads/chromedriver')"
   ]
  },
  {
   "cell_type": "code",
   "execution_count": 9,
   "metadata": {},
   "outputs": [],
   "source": [
    "url = 'https://donkhouse.com/groups'\n",
    "driver2.get(url)"
   ]
  },
  {
   "cell_type": "code",
   "execution_count": 12,
   "metadata": {},
   "outputs": [],
   "source": [
    "driver2.find_element_by_name('name').send_keys('-you')\n",
    "sleep(.5)\n",
    "driver2.find_element_by_name('password').send_keys('54321donk')\n",
    "sleep(.7)\n",
    "driver2.find_element(By.XPATH, '//button[text()=\"Login\"]').click()"
   ]
  },
  {
   "cell_type": "code",
   "execution_count": 14,
   "metadata": {},
   "outputs": [],
   "source": [
    "driver.get('https://donkhouse.com/group/28692/73472')"
   ]
  },
  {
   "cell_type": "code",
   "execution_count": 29,
   "metadata": {},
   "outputs": [
    {
     "name": "stdout",
     "output_type": "stream",
     "text": [
      "0\n"
     ]
    }
   ],
   "source": [
    "a = driver.find_elements_by_css_selector(\"frame\")\n",
    "print(len(a))"
   ]
  },
  {
   "cell_type": "code",
   "execution_count": 25,
   "metadata": {},
   "outputs": [],
   "source": [
    "b = driver.find_element(By.XPATH, '//div/canvas') #/script')# .click()"
   ]
  },
  {
   "cell_type": "code",
   "execution_count": 34,
   "metadata": {},
   "outputs": [
    {
     "data": {
      "text/plain": [
       "<selenium.webdriver.remote.webelement.WebElement (session=\"aca2e3d0f989b72c1e6625bab8fbc355\", element=\"6208e7fb-e1f6-4cc9-8b7c-16171653c644\")>"
      ]
     },
     "execution_count": 34,
     "metadata": {},
     "output_type": "execute_result"
    }
   ],
   "source": [
    "b"
   ]
  },
  {
   "cell_type": "code",
   "execution_count": 33,
   "metadata": {},
   "outputs": [],
   "source": [
    "driver.execute_script(\"arguments[0].click();\", b)"
   ]
  },
  {
   "cell_type": "code",
   "execution_count": 5,
   "metadata": {},
   "outputs": [],
   "source": [
    "driver = webdriver.Chrome('/Users/mcurcio/Downloads/chromedriver')"
   ]
  },
  {
   "cell_type": "code",
   "execution_count": 6,
   "metadata": {},
   "outputs": [],
   "source": [
    "url = 'https://donkhouse.com/groups'\n",
    "driver.get(url)\n",
    "\n",
    "# players = driver.find_elements_by_xpath('//td[@class=\"name\"]')\n",
    "# salaries = driver.find_elements_by_xpath('//td[@class=\"hh-salaries-sorted\"]') "
   ]
  },
  {
   "cell_type": "code",
   "execution_count": 11,
   "metadata": {},
   "outputs": [],
   "source": [
    "driver.find_element_by_name('name').send_keys('mcurcio')\n",
    "sleep(.5)\n",
    "driver.find_element_by_name('password').send_keys('qyjtid-3vingi-coSpaj')\n",
    "sleep(.7)\n",
    "driver.find_element(By.XPATH, '//button[text()=\"Login\"]').click()"
   ]
  },
  {
   "cell_type": "code",
   "execution_count": 7,
   "metadata": {},
   "outputs": [],
   "source": [
    "h = pd.read_pickle('./donk_hands/BEI/1610591449.txt')"
   ]
  },
  {
   "cell_type": "code",
   "execution_count": 11,
   "metadata": {},
   "outputs": [
    {
     "data": {
      "text/plain": [
       "[['ronnieiii (298, SB),',\n",
       "  'Alisker94 (76, BB),',\n",
       "  'mjh (144.5, BU) are in the hand.',\n",
       "  'ronnieiii posted 0.5',\n",
       "  'Alisker94 posted 1',\n",
       "  'mjh raised to 2.5',\n",
       "  'ronnieiii called 2.5',\n",
       "  'Alisker94 folded',\n",
       "  'board: 5♣ 10♦ 4♦',\n",
       "  'ronnieiii checked',\n",
       "  'mjh checked',\n",
       "  'board: 5♣ 10♦ 4♦ J♣',\n",
       "  'ronnieiii checked',\n",
       "  'mjh bet 3',\n",
       "  'ronnieiii called 3',\n",
       "  'board: 5♣ 10♦ 4♦ J♣ 8♥',\n",
       "  'ronnieiii checked',\n",
       "  'mjh bet 8',\n",
       "  'ronnieiii folded',\n",
       "  'mjh won 20 chips'],\n",
       " ['ronnieiii (292.5, SB),',\n",
       "  'Alisker94 (75, BB),',\n",
       "  'mjh (151, CO),',\n",
       "  'steven4294 (292.5, BU) are in the hand.',\n",
       "  'ronnieiii posted 0.5',\n",
       "  'Alisker94 posted 1',\n",
       "  'mjh raised to 2.5',\n",
       "  'steven4294 folded',\n",
       "  'ronnieiii folded',\n",
       "  'Alisker94 folded',\n",
       "  'mjh won 4 chips'],\n",
       " ['Alisker94 (74, SB),',\n",
       "  'mjh (152.5, BB),',\n",
       "  'steven4294 (292.5, CO),',\n",
       "  'ronnieiii (292, BU) are in the hand.',\n",
       "  'Alisker94 posted 0.5',\n",
       "  'mjh posted 1',\n",
       "  'steven4294 folded',\n",
       "  'ronnieiii raised to 2.5',\n",
       "  'Alisker94 called 2.5',\n",
       "  'mjh called 2.5',\n",
       "  'board: 5♥ A♥ 3♥',\n",
       "  'Alisker94 checked',\n",
       "  'mjh bet 4.5',\n",
       "  'ronnieiii folded',\n",
       "  'Alisker94 called 4.5',\n",
       "  'board: 5♥ A♥ 3♥ 9♣',\n",
       "  'Alisker94 checked',\n",
       "  'mjh bet 9.5',\n",
       "  'Alisker94 raised to 19',\n",
       "  'mjh called 19',\n",
       "  'board: 5♥ A♥ 3♥ 9♣ 4♦',\n",
       "  'Alisker94 bet 48',\n",
       "  'mjh revealed A♦',\n",
       "  'mjh revealed 5♠',\n",
       "  'mjh called 48',\n",
       "  'Alisker94 showed Q♥ 7♥ (flush)',\n",
       "  'mjh mucked',\n",
       "  'Alisker94 won 150.5 chips'],\n",
       " ['mjh (78.5, SB),',\n",
       "  'steven4294 (292.5, BB),',\n",
       "  'ronnieiii (289.5, CO),',\n",
       "  'Alisker94 (150.5, BU) are in the hand.',\n",
       "  'mjh posted 0.5',\n",
       "  'steven4294 posted 1',\n",
       "  'ronnieiii raised to 3',\n",
       "  'Alisker94 folded',\n",
       "  'mjh called 3',\n",
       "  'steven4294 folded',\n",
       "  'board: 6♥ 3♦ 4♦',\n",
       "  'mjh checked',\n",
       "  'ronnieiii checked',\n",
       "  'board: 6♥ 3♦ 4♦ 6♣',\n",
       "  'mjh bet 3.5',\n",
       "  'ronnieiii called 3.5',\n",
       "  'board: 6♥ 3♦ 4♦ 6♣ 2♦',\n",
       "  'mjh bet 10',\n",
       "  'ronnieiii folded',\n",
       "  'mjh showed 5♦ 6♦ (by choice)',\n",
       "  'mjh won 24 chips'],\n",
       " ['steven4294 (291.5, SB),',\n",
       "  'ronnieiii (283, BB),',\n",
       "  'Alisker94 (150.5, CO),',\n",
       "  'mjh (86, BU) are in the hand.',\n",
       "  'steven4294 posted 0.5',\n",
       "  'ronnieiii posted 1',\n",
       "  'Alisker94 folded',\n",
       "  'mjh folded',\n",
       "  'steven4294 folded',\n",
       "  'ronnieiii won 1.5 chips'],\n",
       " ['ronnieiii (283.5, SB),',\n",
       "  'Alisker94 (150.5, BB),',\n",
       "  'mjh (86, CO),',\n",
       "  'steven4294 (291, BU) are in the hand.',\n",
       "  'ronnieiii posted 0.5',\n",
       "  'Alisker94 posted 1',\n",
       "  'mjh raised to 2.5',\n",
       "  'steven4294 folded',\n",
       "  'ronnieiii folded',\n",
       "  'Alisker94 folded',\n",
       "  'mjh showed 8♦ Q♥ (by choice)',\n",
       "  'mjh won 4 chips'],\n",
       " ['Alisker94 (149.5, SB),',\n",
       "  'mjh (87.5, BB),',\n",
       "  'steven4294 (291, CO),',\n",
       "  'ronnieiii (283, BU) are in the hand.',\n",
       "  'Alisker94 posted 0.5',\n",
       "  'mjh posted 1',\n",
       "  'steven4294 folded',\n",
       "  'ronnieiii raised to 3',\n",
       "  'Alisker94 called 3',\n",
       "  'mjh raised to 10.5',\n",
       "  'ronnieiii folded',\n",
       "  'Alisker94 folded',\n",
       "  'mjh won 16.5 chips'],\n",
       " ['mjh (93.5, SB),',\n",
       "  'steven4294 (291, BB),',\n",
       "  'ronnieiii (280, CO),',\n",
       "  'Alisker94 (146.5, BU) are in the hand.',\n",
       "  'mjh posted 0.5',\n",
       "  'steven4294 posted 1',\n",
       "  'ronnieiii folded',\n",
       "  'Alisker94 raised to 3',\n",
       "  'mjh called 3',\n",
       "  'steven4294 called 3',\n",
       "  'board: 4♠ 10♣ 4♣',\n",
       "  'mjh checked',\n",
       "  'steven4294 checked',\n",
       "  'Alisker94 bet 6',\n",
       "  'mjh called 6',\n",
       "  'steven4294 folded',\n",
       "  'board: 4♠ 10♣ 4♣ 9♦',\n",
       "  'mjh checked',\n",
       "  'Alisker94 bet 15',\n",
       "  'mjh folded',\n",
       "  'Alisker94 won 36 chips'],\n",
       " ['steven4294 (288, SB),',\n",
       "  'ronnieiii (280, BB),',\n",
       "  'Alisker94 (158.5, CO),',\n",
       "  'mjh (84.5, BU) are in the hand.',\n",
       "  'steven4294 posted 0.5',\n",
       "  'ronnieiii posted 1',\n",
       "  'Alisker94 folded',\n",
       "  'mjh folded',\n",
       "  'steven4294 called 1',\n",
       "  'ronnieiii bet 4',\n",
       "  'steven4294 called 4',\n",
       "  'board: 6♣ 10♣ 5♠',\n",
       "  'steven4294 checked',\n",
       "  'ronnieiii checked',\n",
       "  'board: 6♣ 10♣ 5♠ K♠',\n",
       "  'steven4294 checked',\n",
       "  'ronnieiii bet 6',\n",
       "  'steven4294 folded',\n",
       "  'ronnieiii won 14 chips'],\n",
       " ['ronnieiii (284, SB),',\n",
       "  'Alisker94 (158.5, BB),',\n",
       "  'mjh (84.5, CO),',\n",
       "  'steven4294 (284, BU) are in the hand.',\n",
       "  'ronnieiii posted 0.5',\n",
       "  'Alisker94 posted 1',\n",
       "  'mjh raised to 2.5',\n",
       "  'steven4294 raised to 11',\n",
       "  'ronnieiii folded',\n",
       "  'Alisker94 called 11',\n",
       "  'mjh called 11',\n",
       "  'board: K♠ 2♠ 2♦',\n",
       "  'Alisker94 bet 20',\n",
       "  'mjh folded',\n",
       "  'steven4294 folded',\n",
       "  'Alisker94 won 53.5 chips'],\n",
       " ['Alisker94 (181, SB),',\n",
       "  'mjh (73.5, BB),',\n",
       "  'steven4294 (273, CO),',\n",
       "  'ronnieiii (283.5, BU) are in the hand.',\n",
       "  'Alisker94 posted 0.5',\n",
       "  'mjh posted 1',\n",
       "  'steven4294 folded',\n",
       "  'ronnieiii folded',\n",
       "  'Alisker94 raised to 5',\n",
       "  'mjh called 5',\n",
       "  'board: 3♥ J♠ K♣',\n",
       "  'Alisker94 bet 7',\n",
       "  'mjh called 7',\n",
       "  'board: 3♥ J♠ K♣ 9♠',\n",
       "  'Alisker94 bet 20',\n",
       "  'mjh raised to 61.5',\n",
       "  'Alisker94 called 61.5',\n",
       "  'board: 3♥ J♠ K♣ 9♠ 8♠',\n",
       "  'mjh showed K♥ 6♠ (pair)',\n",
       "  'Alisker94 showed A♥ A♣ (pair)',\n",
       "  'Alisker94 won 147 chips'],\n",
       " ['steven4294 (273, SB),',\n",
       "  'ronnieiii (283.5, BB),',\n",
       "  'Alisker94 (254.5, BU) are in the hand.',\n",
       "  'steven4294 posted 0.5',\n",
       "  'ronnieiii posted 1',\n",
       "  'Alisker94 raised to 3',\n",
       "  'steven4294 folded',\n",
       "  'ronnieiii folded',\n",
       "  'Alisker94 won 4.5 chips'],\n",
       " ['ronnieiii (282.5, SB),',\n",
       "  'Alisker94 (256, BB),',\n",
       "  'steven4294 (272.5, BU) are in the hand.',\n",
       "  'ronnieiii posted 0.5',\n",
       "  'Alisker94 posted 1',\n",
       "  'steven4294 folded',\n",
       "  'ronnieiii folded',\n",
       "  'Alisker94 won 1.5 chips'],\n",
       " ['Alisker94 (256.5, SB),',\n",
       "  'steven4294 (272.5, BB),',\n",
       "  'ronnieiii (282, BU) are in the hand.',\n",
       "  'Alisker94 posted 0.5',\n",
       "  'steven4294 posted 1',\n",
       "  'ronnieiii folded',\n",
       "  'Alisker94 folded',\n",
       "  'steven4294 won 1.5 chips'],\n",
       " ['steven4294 (273, SB),',\n",
       "  'ronnieiii (282, BB),',\n",
       "  'Alisker94 (256, BU) are in the hand.',\n",
       "  'steven4294 posted 0.5',\n",
       "  'ronnieiii posted 1',\n",
       "  'Alisker94 raised to 3',\n",
       "  'steven4294 called 3',\n",
       "  'ronnieiii folded',\n",
       "  'board: 3♠ J♥ 4♣',\n",
       "  'steven4294 checked',\n",
       "  'Alisker94 bet 5',\n",
       "  'steven4294 called 5',\n",
       "  'board: 3♠ J♥ 4♣ A♦',\n",
       "  'steven4294 checked',\n",
       "  'Alisker94 bet 10',\n",
       "  'steven4294 folded',\n",
       "  'Alisker94 won 27 chips'],\n",
       " ['ronnieiii (281, SB),',\n",
       "  'Alisker94 (265, BB),',\n",
       "  'steven4294 (265, BU) are in the hand.',\n",
       "  'ronnieiii posted 0.5',\n",
       "  'Alisker94 posted 1',\n",
       "  'steven4294 folded',\n",
       "  'ronnieiii raised to 2',\n",
       "  'Alisker94 folded',\n",
       "  'ronnieiii won 3 chips'],\n",
       " ['Alisker94 (264, SB),',\n",
       "  'steven4294 (265, BB),',\n",
       "  'ronnieiii (282, BU) are in the hand.',\n",
       "  'Alisker94 posted 0.5',\n",
       "  'steven4294 posted 1',\n",
       "  'ronnieiii folded',\n",
       "  'Alisker94 folded',\n",
       "  'steven4294 won 1.5 chips']]"
      ]
     },
     "execution_count": 11,
     "metadata": {},
     "output_type": "execute_result"
    }
   ],
   "source": [
    "h"
   ]
  },
  {
   "cell_type": "code",
   "execution_count": 40,
   "metadata": {},
   "outputs": [],
   "source": [
    "h2 = pd.read_pickle('./donk_hands/BEI/1610597945.txt')"
   ]
  },
  {
   "cell_type": "code",
   "execution_count": 41,
   "metadata": {},
   "outputs": [],
   "source": [
    "h3 = pd.read_pickle('./donk_hands/BEI/1610596632.txt')"
   ]
  },
  {
   "cell_type": "code",
   "execution_count": 43,
   "metadata": {},
   "outputs": [
    {
     "data": {
      "text/plain": [
       "15"
      ]
     },
     "execution_count": 43,
     "metadata": {},
     "output_type": "execute_result"
    }
   ],
   "source": [
    "len(h2)"
   ]
  },
  {
   "cell_type": "code",
   "execution_count": 44,
   "metadata": {},
   "outputs": [
    {
     "data": {
      "text/plain": [
       "15"
      ]
     },
     "execution_count": 44,
     "metadata": {},
     "output_type": "execute_result"
    }
   ],
   "source": [
    "len(h3)"
   ]
  },
  {
   "cell_type": "code",
   "execution_count": 51,
   "metadata": {},
   "outputs": [],
   "source": [
    "l = h2 + h3\n"
   ]
  },
  {
   "cell_type": "code",
   "execution_count": 56,
   "metadata": {},
   "outputs": [],
   "source": [
    "from itertools import chain\n",
    "\n",
    "def collapse(lst):\n",
    "    return '' .join(chain.from_iterable(lst))"
   ]
  },
  {
   "cell_type": "code",
   "execution_count": 59,
   "metadata": {},
   "outputs": [],
   "source": [
    "l1 = [collapse(h) for h in h2]\n",
    "l2 = [collapse(h) for h in h3]"
   ]
  },
  {
   "cell_type": "code",
   "execution_count": 62,
   "metadata": {},
   "outputs": [
    {
     "data": {
      "text/plain": [
       "30"
      ]
     },
     "execution_count": 62,
     "metadata": {},
     "output_type": "execute_result"
    }
   ],
   "source": [
    "len(set(l1 + l2))"
   ]
  },
  {
   "cell_type": "code",
   "execution_count": 28,
   "metadata": {},
   "outputs": [],
   "source": [
    "h3 = pd.read_pickle('./donk_hands/BEI/1610594761.txt')"
   ]
  },
  {
   "cell_type": "code",
   "execution_count": 39,
   "metadata": {},
   "outputs": [
    {
     "data": {
      "text/plain": [
       "17"
      ]
     },
     "execution_count": 39,
     "metadata": {},
     "output_type": "execute_result"
    }
   ],
   "source": [
    "len(h3)"
   ]
  },
  {
   "cell_type": "code",
   "execution_count": 34,
   "metadata": {},
   "outputs": [
    {
     "data": {
      "text/plain": [
       "['steven4294 (288, SB),',\n",
       " 'Alisker94 (259, BB) are in the hand.',\n",
       " 'Alisker94 posted 0.5',\n",
       " 'steven4294 posted 1',\n",
       " 'Alisker94 called 1',\n",
       " 'steven4294 checked',\n",
       " 'board: 9♥ 10♦ 10♣',\n",
       " 'steven4294 checked',\n",
       " 'steven4294 revealed 7♠',\n",
       " 'Alisker94 checked',\n",
       " 'board: 9♥ 10♦ 10♣ Q♥',\n",
       " 'steven4294 bet 1',\n",
       " 'Alisker94 folded',\n",
       " 'steven4294 showed 8♦ 7♠ (by choice)',\n",
       " 'steven4294 won 3 chips']"
      ]
     },
     "execution_count": 34,
     "metadata": {},
     "output_type": "execute_result"
    }
   ],
   "source": [
    "h3[4]"
   ]
  },
  {
   "cell_type": "code",
   "execution_count": 21,
   "metadata": {},
   "outputs": [],
   "source": [
    "url = 'https://donkhouse.com/group/100'"
   ]
  },
  {
   "cell_type": "code",
   "execution_count": 22,
   "metadata": {},
   "outputs": [],
   "source": [
    "driver.get(url)"
   ]
  },
  {
   "cell_type": "code",
   "execution_count": 10,
   "metadata": {},
   "outputs": [],
   "source": [
    "# tables = driver.find_element(By.XPATH, '//div[@class=\"column\"]')"
   ]
  },
  {
   "cell_type": "code",
   "execution_count": 13,
   "metadata": {},
   "outputs": [],
   "source": [
    "# tables = driver.find_elements(By.XPATH, \n",
    " #                              '//div[@class=\"columns\"]/div[1]//form[@method=\"POST\"]')"
   ]
  },
  {
   "cell_type": "code",
   "execution_count": 33,
   "metadata": {},
   "outputs": [],
   "source": [
    "# tables[0].get_attribute('class')\n",
    "# buttons = tables[0].find_elements_by_xpath(\"//a[starts-with(@href, '/')]\") # .get_attribute('href')"
   ]
  },
  {
   "cell_type": "code",
   "execution_count": 23,
   "metadata": {},
   "outputs": [],
   "source": [
    "tables = driver.find_elements(By.XPATH, \n",
    "        '//div[@class=\"columns\"]/div[1]//form[@method=\"POST\"]/a') # .get_attribute('href')"
   ]
  },
  {
   "cell_type": "code",
   "execution_count": 24,
   "metadata": {},
   "outputs": [],
   "source": [
    "data = []\n",
    "for table in tables:\n",
    "    data.append(table.text.split('\\n') + [table.get_attribute('href')])"
   ]
  },
  {
   "cell_type": "code",
   "execution_count": 25,
   "metadata": {},
   "outputs": [],
   "source": [
    "group = pd.DataFrame(columns = ['table', 'game_type', 'stakes', 'players', 'link'], data = data)"
   ]
  },
  {
   "cell_type": "code",
   "execution_count": 26,
   "metadata": {},
   "outputs": [
    {
     "data": {
      "text/html": [
       "<div>\n",
       "<style scoped>\n",
       "    .dataframe tbody tr th:only-of-type {\n",
       "        vertical-align: middle;\n",
       "    }\n",
       "\n",
       "    .dataframe tbody tr th {\n",
       "        vertical-align: top;\n",
       "    }\n",
       "\n",
       "    .dataframe thead th {\n",
       "        text-align: right;\n",
       "    }\n",
       "</style>\n",
       "<table border=\"1\" class=\"dataframe\">\n",
       "  <thead>\n",
       "    <tr style=\"text-align: right;\">\n",
       "      <th></th>\n",
       "      <th>table</th>\n",
       "      <th>game_type</th>\n",
       "      <th>stakes</th>\n",
       "      <th>players</th>\n",
       "      <th>link</th>\n",
       "    </tr>\n",
       "  </thead>\n",
       "  <tbody>\n",
       "    <tr>\n",
       "      <th>0</th>\n",
       "      <td>BEI</td>\n",
       "      <td>NLH</td>\n",
       "      <td>0.5/1</td>\n",
       "      <td>1/8</td>\n",
       "      <td>https://donkhouse.com/group/100/58272</td>\n",
       "    </tr>\n",
       "    <tr>\n",
       "      <th>1</th>\n",
       "      <td>BEI Overflow</td>\n",
       "      <td>NLH</td>\n",
       "      <td>0.5/1</td>\n",
       "      <td>0/8</td>\n",
       "      <td>https://donkhouse.com/group/100/58421</td>\n",
       "    </tr>\n",
       "    <tr>\n",
       "      <th>2</th>\n",
       "      <td>Bb ante BEI</td>\n",
       "      <td>NLH</td>\n",
       "      <td>0.5/1</td>\n",
       "      <td>0/8</td>\n",
       "      <td>https://donkhouse.com/group/100/59833</td>\n",
       "    </tr>\n",
       "    <tr>\n",
       "      <th>3</th>\n",
       "      <td>Dealers Choice</td>\n",
       "      <td>DLC</td>\n",
       "      <td>0.5/1</td>\n",
       "      <td>0/8</td>\n",
       "      <td>https://donkhouse.com/group/100/60777</td>\n",
       "    </tr>\n",
       "    <tr>\n",
       "      <th>4</th>\n",
       "      <td>PLO</td>\n",
       "      <td>PLO</td>\n",
       "      <td>0.25/0.5</td>\n",
       "      <td>0/8</td>\n",
       "      <td>https://donkhouse.com/group/100/60943</td>\n",
       "    </tr>\n",
       "    <tr>\n",
       "      <th>5</th>\n",
       "      <td>NL</td>\n",
       "      <td>NLH</td>\n",
       "      <td>0.25/0.5</td>\n",
       "      <td>0/8</td>\n",
       "      <td>https://donkhouse.com/group/100/62419</td>\n",
       "    </tr>\n",
       "    <tr>\n",
       "      <th>6</th>\n",
       "      <td>MADNESS</td>\n",
       "      <td>NLH</td>\n",
       "      <td>1/3</td>\n",
       "      <td>0/9</td>\n",
       "      <td>https://donkhouse.com/group/100/66163</td>\n",
       "    </tr>\n",
       "    <tr>\n",
       "      <th>7</th>\n",
       "      <td>BEI x2</td>\n",
       "      <td>NLH</td>\n",
       "      <td>0.5/1</td>\n",
       "      <td>0/8</td>\n",
       "      <td>https://donkhouse.com/group/100/68326</td>\n",
       "    </tr>\n",
       "    <tr>\n",
       "      <th>8</th>\n",
       "      <td>BDE</td>\n",
       "      <td>NLH</td>\n",
       "      <td>2/4</td>\n",
       "      <td>0/8</td>\n",
       "      <td>https://donkhouse.com/group/100/73079</td>\n",
       "    </tr>\n",
       "  </tbody>\n",
       "</table>\n",
       "</div>"
      ],
      "text/plain": [
       "            table game_type    stakes players  \\\n",
       "0             BEI       NLH     0.5/1     1/8   \n",
       "1    BEI Overflow       NLH     0.5/1     0/8   \n",
       "2     Bb ante BEI       NLH     0.5/1     0/8   \n",
       "3  Dealers Choice       DLC     0.5/1     0/8   \n",
       "4             PLO       PLO  0.25/0.5     0/8   \n",
       "5              NL       NLH  0.25/0.5     0/8   \n",
       "6         MADNESS       NLH       1/3     0/9   \n",
       "7          BEI x2       NLH     0.5/1     0/8   \n",
       "8             BDE       NLH       2/4     0/8   \n",
       "\n",
       "                                    link  \n",
       "0  https://donkhouse.com/group/100/58272  \n",
       "1  https://donkhouse.com/group/100/58421  \n",
       "2  https://donkhouse.com/group/100/59833  \n",
       "3  https://donkhouse.com/group/100/60777  \n",
       "4  https://donkhouse.com/group/100/60943  \n",
       "5  https://donkhouse.com/group/100/62419  \n",
       "6  https://donkhouse.com/group/100/66163  \n",
       "7  https://donkhouse.com/group/100/68326  \n",
       "8  https://donkhouse.com/group/100/73079  "
      ]
     },
     "execution_count": 26,
     "metadata": {},
     "output_type": "execute_result"
    }
   ],
   "source": [
    "group"
   ]
  },
  {
   "cell_type": "code",
   "execution_count": 27,
   "metadata": {},
   "outputs": [],
   "source": [
    "group['current_players'] = group['players'].apply(lambda x: int(x[0]))\n",
    "group['table_size'] = group['players'].apply(lambda x: int(x[-1]))\n",
    "group = group.drop(columns = ['players'])"
   ]
  },
  {
   "cell_type": "code",
   "execution_count": 25,
   "metadata": {},
   "outputs": [],
   "source": [
    "groups_of_interest = group.loc[group['current_players'] >= 2, 'table'].values\n",
    "links_of_interest = group.loc[group['current_players'] >= 2, 'link'].values"
   ]
  },
  {
   "cell_type": "code",
   "execution_count": 42,
   "metadata": {},
   "outputs": [],
   "source": [
    "def convert_text_to_list_of_hands(all_hands_text):\n",
    "    game_action_list = all_hands_text.text.split('\\n')\n",
    "    all_hands = []\n",
    "    local_hand = []\n",
    "    \n",
    "    for i in range(len(game_action_list)):\n",
    "        if 'SB' in game_action_list[i] and len(local_hand) != 0:\n",
    "            all_hands.append(local_hand)\n",
    "            local_hand = []\n",
    "        local_hand.append(game_action_list[i])\n",
    "        \n",
    "    try: \n",
    "        return all_hands[1:-1]\n",
    "    except:\n",
    "        return []\n",
    "    \n",
    "    \n",
    "def save_hands(hands, group_name):\n",
    "    dest_dir = './donk_hands/' + group_name \n",
    "    \n",
    "    try:\n",
    "        os.makedirs(dest_dir)\n",
    "    except OSError:\n",
    "        pass # already exists\n",
    "    \n",
    "    file_name = dest_dir + '/' + str(int(time.time())) + '.txt'\n",
    "    with open(file_name, 'wb') as f:\n",
    "        pickle.dump(hands, f)"
   ]
  },
  {
   "cell_type": "code",
   "execution_count": 44,
   "metadata": {},
   "outputs": [],
   "source": [
    "driver.execute_script(\"window.history.go(-1)\")"
   ]
  },
  {
   "cell_type": "code",
   "execution_count": null,
   "metadata": {},
   "outputs": [],
   "source": []
  },
  {
   "cell_type": "code",
   "execution_count": 43,
   "metadata": {},
   "outputs": [],
   "source": [
    "for i, group in enumerate(groups_of_interest):\n",
    "    driver.get(links_of_interest[i])\n",
    "    sleep(4)\n",
    "    # switch to only view hand histories\n",
    "    driver.find_elements(By.XPATH, \n",
    "    '//select[@id=\"mode\"]/option[text()=\"hand histories only\"]')[0].click()\n",
    "    all_hands_text = driver.find_elements(By.XPATH, '//div[@id=\"chat\"]')\n",
    "    all_hands = convert_text_to_list_of_hands(all_hands_text[0])\n",
    "    save_hands(all_hands, group)\n",
    "    sleep(2)\n",
    "    driver.execute_script(\"window.history.go(-1)\")\n",
    "    sleep(4)"
   ]
  },
  {
   "cell_type": "code",
   "execution_count": 158,
   "metadata": {},
   "outputs": [],
   "source": [
    "driver.get(link)"
   ]
  },
  {
   "cell_type": "code",
   "execution_count": 161,
   "metadata": {},
   "outputs": [],
   "source": [
    "# switch modes to just view the hands\n",
    "driver.find_elements(By.XPATH, \n",
    "    '//select[@id=\"mode\"]/option[text()=\"hand histories only\"]')[0].click()"
   ]
  },
  {
   "cell_type": "code",
   "execution_count": 162,
   "metadata": {},
   "outputs": [],
   "source": [
    "box = driver.find_elements(By.XPATH, '//div[@id=\"chat\"]')"
   ]
  },
  {
   "cell_type": "code",
   "execution_count": 163,
   "metadata": {},
   "outputs": [],
   "source": [
    "game_action_list = box[0].text.split('\\n')"
   ]
  },
  {
   "cell_type": "code",
   "execution_count": 160,
   "metadata": {},
   "outputs": [],
   "source": [
    "import pickle\n",
    "# with open('hu_hands.txt', 'wb') as f:\n",
    "#     pickle.dump(game_action_list, f)"
   ]
  },
  {
   "cell_type": "code",
   "execution_count": 184,
   "metadata": {},
   "outputs": [],
   "source": [
    "# take all hands and make them units\n",
    "all_hands = []\n",
    "local_hand = []\n",
    "for i in range(len(game_action_list)):\n",
    "    if 'SB' in game_action_list[i] and len(local_hand) != 0:\n",
    "        all_hands.append(local_hand)\n",
    "        local_hand = []\n",
    "    local_hand.append(game_action_list[i])\n",
    "all_hands = all_hands[1:]"
   ]
  },
  {
   "cell_type": "code",
   "execution_count": null,
   "metadata": {},
   "outputs": [],
   "source": [
    "# STATE:0:ffr225fff:3c9s|6d5s|9dTs|2sQs|AdKd|7cTc:-50|-100|0|0|150|0:MrWhite|Gogo|Budd|Eddie|Bill|Pluribus"
   ]
  },
  {
   "cell_type": "code",
   "execution_count": null,
   "metadata": {},
   "outputs": [],
   "source": [
    "# convert donk format to custom format used for statistics\n",
    "# def compress_donk_format(hand):\n",
    "#     players = []\n",
    "#     for i in range(len(hand)):\n",
    "        "
   ]
  },
  {
   "cell_type": "code",
   "execution_count": null,
   "metadata": {},
   "outputs": [],
   "source": []
  }
 ],
 "metadata": {
  "kernelspec": {
   "display_name": "Python 3",
   "language": "python",
   "name": "python3"
  },
  "language_info": {
   "codemirror_mode": {
    "name": "ipython",
    "version": 3
   },
   "file_extension": ".py",
   "mimetype": "text/x-python",
   "name": "python",
   "nbconvert_exporter": "python",
   "pygments_lexer": "ipython3",
   "version": "3.9.1"
  }
 },
 "nbformat": 4,
 "nbformat_minor": 4
}
