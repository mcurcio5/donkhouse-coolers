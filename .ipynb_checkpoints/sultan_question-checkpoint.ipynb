{
 "cells": [
  {
   "cell_type": "code",
   "execution_count": 37,
   "metadata": {},
   "outputs": [],
   "source": [
    "import random\n",
    "import numpy as np"
   ]
  },
  {
   "cell_type": "code",
   "execution_count": 107,
   "metadata": {},
   "outputs": [],
   "source": [
    "# sultan problem\n",
    "\n",
    "class sultan():\n",
    "    def __init__(self):\n",
    "        self.count_of_changes = 0\n",
    "        self.num_visits = 0\n",
    "        self.visits_since_last_change = 0\n",
    "        self.ci = .05\n",
    "    def note_no_change(self):\n",
    "        self.num_visits += 1\n",
    "        if (49 - self.count_of_changes) % 2 == 0:\n",
    "            self.visits_since_last_change += 1\n",
    "    def note_change(self):\n",
    "        self.num_visits += 1\n",
    "        self.count_of_changes += 1\n",
    "        self.visits_since_last_change = 0\n",
    "    def ci_reached(self):\n",
    "        print('visits since last change', self.visits_since_last_change)\n",
    "        print('n flips', self.count_of_changes)\n",
    "        # prob that at least two left is 1 - p(none left)\n",
    "        std_dev = np.sqrt(50*self.visits_since_last_change*2/49*47/49)  #npq\n",
    "        print('stdev', std_dev)\n",
    "        expected_number_of_flips = 2/49 * self.visits_since_last_change * 50\n",
    "        print('E(flips)', expected_number_of_flips, '\\n')\n",
    "        if expected_number_of_flips - 2*std_dev > 0:\n",
    "            return True\n",
    "\n",
    "class wise_man():\n",
    "    def __init__(self):\n",
    "        self.have_flipped = False\n",
    "    def visit(self):\n",
    "        if not self.have_flipped:\n",
    "            self.have_flipped = True\n",
    "            return True\n",
    "        return False\n",
    "    def has_visited(self):\n",
    "        return self.have_flipped\n",
    "    \n",
    "def everyone_visited(l):\n",
    "    for i in range(49):\n",
    "        if not l[i].has_visited():\n",
    "            return False\n",
    "    return True"
   ]
  },
  {
   "cell_type": "code",
   "execution_count": 118,
   "metadata": {},
   "outputs": [
    {
     "name": "stdout",
     "output_type": "stream",
     "text": [
      "visits since last change 0\n",
      "n flips 3\n",
      "stdev 0.0\n",
      "E(flips) 0.0 \n",
      "\n",
      "visits since last change 1\n",
      "n flips 3\n",
      "stdev 1.3991131837553152\n",
      "E(flips) 2.0408163265306123 \n",
      "\n",
      "visits since last change 2\n",
      "n flips 3\n",
      "stdev 1.978644839761767\n",
      "E(flips) 4.081632653061225 \n",
      "\n",
      "Everyone visited:  True\n",
      "Number of visits:  410\n"
     ]
    }
   ],
   "source": [
    "wise_men = [wise_man() for i in range(49)]\n",
    "wise_men.append(sultan())\n",
    "\n",
    "flipped = False\n",
    "prev_flipped = False\n",
    "\n",
    "for i in range(100000):\n",
    "    man_index = random.randrange(50)\n",
    "    if man_index < 49:\n",
    "        flip = wise_men[man_index].visit()\n",
    "        flipped = not flipped if flip else flipped\n",
    "    elif abs(flipped - prev_flipped) > 0: # if change\n",
    "        # print('Sultan Change')\n",
    "        prev_flipped = not prev_flipped\n",
    "        wise_men[man_index].note_change()\n",
    "    elif wise_men[man_index].ci_reached(): # one visit conservative\n",
    "        print('Everyone visited: ', everyone_visited(wise_men))\n",
    "        print('Number of visits: ', i)\n",
    "        break\n",
    "    else:\n",
    "        # print('Sultan No Change')\n",
    "        wise_men[man_index].note_no_change()"
   ]
  },
  {
   "cell_type": "code",
   "execution_count": null,
   "metadata": {},
   "outputs": [],
   "source": []
  },
  {
   "cell_type": "code",
   "execution_count": null,
   "metadata": {},
   "outputs": [],
   "source": []
  }
 ],
 "metadata": {
  "kernelspec": {
   "display_name": "Python 3",
   "language": "python",
   "name": "python3"
  },
  "language_info": {
   "codemirror_mode": {
    "name": "ipython",
    "version": 3
   },
   "file_extension": ".py",
   "mimetype": "text/x-python",
   "name": "python",
   "nbconvert_exporter": "python",
   "pygments_lexer": "ipython3",
   "version": "3.8.5"
  }
 },
 "nbformat": 4,
 "nbformat_minor": 4
}
